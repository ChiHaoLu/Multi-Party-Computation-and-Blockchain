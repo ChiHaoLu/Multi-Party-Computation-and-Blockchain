{
  "cells": [
    {
      "cell_type": "markdown",
      "metadata": {
        "id": "v-JsRmFCvH5f"
      },
      "source": [
        "# Multi-Party Computation and Blockchain\n",
        "\n",
        "- [Documentation](https://hackmd.io/@ChiHaoLu/C2-report-2023)\n",
        "- [Repository](https://github.com/ChiHaoLu/Multi-Party-Computation-and-Blockchain)\n"
      ]
    },
    {
      "cell_type": "markdown",
      "metadata": {
        "id": "s1IP2hFevkpB"
      },
      "source": [
        "## Set-Up"
      ]
    },
    {
      "cell_type": "code",
      "execution_count": 1,
      "metadata": {
        "colab": {
          "base_uri": "https://localhost:8080/"
        },
        "id": "Lyrsb46hu_Lw",
        "outputId": "79551f7f-27b3-46a5-f297-2a51f2ecb244"
      },
      "outputs": [
        {
          "name": "stdout",
          "output_type": "stream",
          "text": [
            "Looking in indexes: https://pypi.org/simple, https://us-python.pkg.dev/colab-wheels/public/simple/\n",
            "Requirement already satisfied: secretshare in /usr/local/lib/python3.10/dist-packages (0.6.0)\n",
            "Requirement already satisfied: hc-passphrase in /usr/local/lib/python3.10/dist-packages (from secretshare) (1.2.1)\n",
            "Looking in indexes: https://pypi.org/simple, https://us-python.pkg.dev/colab-wheels/public/simple/\n",
            "Requirement already satisfied: eth_account in /usr/local/lib/python3.10/dist-packages (0.8.0)\n",
            "Requirement already satisfied: bitarray<3,>=2.4.0 in /usr/local/lib/python3.10/dist-packages (from eth_account) (2.7.3)\n",
            "Requirement already satisfied: eth-abi>=3.0.1 in /usr/local/lib/python3.10/dist-packages (from eth_account) (4.0.0)\n",
            "Requirement already satisfied: eth-keyfile<0.7.0,>=0.6.0 in /usr/local/lib/python3.10/dist-packages (from eth_account) (0.6.1)\n",
            "Requirement already satisfied: eth-keys<0.5,>=0.4.0 in /usr/local/lib/python3.10/dist-packages (from eth_account) (0.4.0)\n",
            "Requirement already satisfied: eth-rlp<1,>=0.3.0 in /usr/local/lib/python3.10/dist-packages (from eth_account) (0.3.0)\n",
            "Requirement already satisfied: eth-utils<3,>=2.0.0 in /usr/local/lib/python3.10/dist-packages (from eth_account) (2.1.0)\n",
            "Requirement already satisfied: hexbytes<1,>=0.1.0 in /usr/local/lib/python3.10/dist-packages (from eth_account) (0.3.0)\n",
            "Requirement already satisfied: rlp<4,>=1.0.0 in /usr/local/lib/python3.10/dist-packages (from eth_account) (3.0.0)\n",
            "Requirement already satisfied: eth-typing>=3.0.0 in /usr/local/lib/python3.10/dist-packages (from eth-abi>=3.0.1->eth_account) (3.3.0)\n",
            "Requirement already satisfied: parsimonious<0.10.0,>=0.9.0 in /usr/local/lib/python3.10/dist-packages (from eth-abi>=3.0.1->eth_account) (0.9.0)\n",
            "Requirement already satisfied: pycryptodome<4,>=3.6.6 in /usr/local/lib/python3.10/dist-packages (from eth-keyfile<0.7.0,>=0.6.0->eth_account) (3.18.0)\n",
            "Requirement already satisfied: eth-hash>=0.3.1 in /usr/local/lib/python3.10/dist-packages (from eth-utils<3,>=2.0.0->eth_account) (0.5.1)\n",
            "Requirement already satisfied: cytoolz>=0.10.1 in /usr/local/lib/python3.10/dist-packages (from eth-utils<3,>=2.0.0->eth_account) (0.12.1)\n",
            "Requirement already satisfied: toolz>=0.8.0 in /usr/local/lib/python3.10/dist-packages (from cytoolz>=0.10.1->eth-utils<3,>=2.0.0->eth_account) (0.12.0)\n",
            "Requirement already satisfied: regex>=2022.3.15 in /usr/local/lib/python3.10/dist-packages (from parsimonious<0.10.0,>=0.9.0->eth-abi>=3.0.1->eth_account) (2022.10.31)\n"
          ]
        }
      ],
      "source": [
        "!pip install secretshare\n",
        "!pip install eth_account"
      ]
    },
    {
      "cell_type": "code",
      "execution_count": 2,
      "metadata": {
        "id": "_wAjv2LMvEvh"
      },
      "outputs": [],
      "source": [
        "from secretshare import Secret, SecretShare, Share\n",
        "from eth_account import Account\n",
        "import random\n",
        "import json\n",
        "\n",
        "def printDict(dict):\n",
        "    print(json.dumps(dict, sort_keys=False, indent=4))"
      ]
    },
    {
      "cell_type": "markdown",
      "metadata": {
        "id": "DKJ4Z_Gyvtne"
      },
      "source": [
        "## Preprocessing\n"
      ]
    },
    {
      "cell_type": "code",
      "execution_count": 3,
      "metadata": {
        "colab": {
          "base_uri": "https://localhost:8080/"
        },
        "id": "O1t_CaKWvRad",
        "outputId": "350cd04f-561e-43d3-ee82-461e58d31b42"
      },
      "outputs": [
        {
          "name": "stdout",
          "output_type": "stream",
          "text": [
            "Private Key:  1364004802806672667206594457559421125887912662369987619446686036873159176519\n"
          ]
        }
      ],
      "source": [
        "# Construct the account object\n",
        "account = Account.create(extra_entropy='KEYSMASH FJAFJKLDSKF7JKFDJ 1530',)\n",
        "privateKey = int(account.key.hex(), 16)\n",
        "print(\"Private Key: \", privateKey)\n",
        "secret = Secret(privateKey)"
      ]
    },
    {
      "cell_type": "code",
      "execution_count": 4,
      "metadata": {
        "colab": {
          "base_uri": "https://localhost:8080/"
        },
        "id": "zRdFLzXKvXpn",
        "outputId": "816a9821-4417-4c5f-d0e5-4337b016421d"
      },
      "outputs": [
        {
          "name": "stdout",
          "output_type": "stream",
          "text": [
            "Transaction object: \n",
            "{\n",
            "    \"gas\": 100000,\n",
            "    \"maxFeePerGas\": 2000000000,\n",
            "    \"maxPriorityFeePerGas\": 2000000000,\n",
            "    \"data\": \"0x616263646566\",\n",
            "    \"nonce\": 34,\n",
            "    \"to\": \"0x09616C3d61b3331fc4109a9E41a8BDB7d9776609\",\n",
            "    \"value\": \"0x5af3107a4000\",\n",
            "    \"chainId\": 4\n",
            "}\n"
          ]
        }
      ],
      "source": [
        "# Construct the transaction object\n",
        "dynamic_fee_transaction = {\n",
        "        \"gas\": 100000,\n",
        "        \"maxFeePerGas\": 2000000000,\n",
        "        \"maxPriorityFeePerGas\": 2000000000,\n",
        "        \"data\": \"0x616263646566\",\n",
        "        \"nonce\": 34,\n",
        "        \"to\": \"0x09616C3d61b3331fc4109a9E41a8BDB7d9776609\",\n",
        "        \"value\": \"0x5af3107a4000\",\n",
        "        \"chainId\": 4,\n",
        "    }\n",
        "print(\"Transaction object: \")\n",
        "printDict(dynamic_fee_transaction)"
      ]
    },
    {
      "cell_type": "code",
      "execution_count": 5,
      "metadata": {
        "colab": {
          "base_uri": "https://localhost:8080/"
        },
        "id": "QAiDrZ6Cva7f",
        "outputId": "5a264e6a-b365-41d0-9ba8-2ece31be4d25"
      },
      "outputs": [
        {
          "name": "stdout",
          "output_type": "stream",
          "text": [
            "\n",
            "Use the original key to sign the transaction:\n",
            "Transaction Hash:  0x03d7b195bb1b3d1accd4de6ca6d12887d1e360af366e1e08b01918f3831abfd2\n",
            "Signature: \n",
            "    - v: 1\n",
            "    - r: 115534056649080601028857423666309574914260440785429281453131866961546152916390\n",
            "    - s: 22651388583251149463669817048932771596499926122556774528040687529184289619208\n"
          ]
        }
      ],
      "source": [
        "print(\"\\nUse the original key to sign the transaction:\")\n",
        "signed = Account.sign_transaction(dynamic_fee_transaction, account.key.hex())\n",
        "transaction_hash = signed.hash.hex()\n",
        "print(\"Transaction Hash: \", transaction_hash)\n",
        "print(\"Signature: \")\n",
        "print(\"    - v:\", signed.v)\n",
        "print(\"    - r:\", signed.r)\n",
        "print(\"    - s:\", signed.s)"
      ]
    },
    {
      "cell_type": "markdown",
      "metadata": {
        "id": "VOzgUAUgvxXc"
      },
      "source": [
        "## Produce the Secret Sharing"
      ]
    },
    {
      "cell_type": "code",
      "execution_count": 6,
      "metadata": {
        "colab": {
          "base_uri": "https://localhost:8080/"
        },
        "id": "7onFWghEvc6z",
        "outputId": "b666ff84-dcef-40f1-f545-a42548c13dc5"
      },
      "outputs": [
        {
          "name": "stdout",
          "output_type": "stream",
          "text": [
            "\n",
            "Share A (Stored by writing on the Paper):  AQCNPOD+s+PW677h7Nr1uPol0CtcjtNAfFRqsioBtCvyMw==\n",
            "\n",
            "Share B (Stored in the Computer):  AgAXdcInXTAADP6+5YyiLlX4Z8VFfA8lnUqIZV5mGMbx9g==\n",
            "\t- Please enter your password, which is used to encrypt your share B:\n",
            "1234\n",
            "\t- Encrypted with the Password by RSA:\n",
            "{\n",
            "    \"address\": \"a2a152b998200b5dba78b8f2aa80f2f321a6d753\",\n",
            "    \"crypto\": {\n",
            "        \"cipher\": \"aes-128-ctr\",\n",
            "        \"cipherparams\": {\n",
            "            \"iv\": \"f063028896f0eb5353c79fd9b69967f4\"\n",
            "        },\n",
            "        \"ciphertext\": \"6185e8b407d807b5f0e013d383fdc11887691032b51bda57f48273eb4fc4ab96\",\n",
            "        \"kdf\": \"scrypt\",\n",
            "        \"kdfparams\": {\n",
            "            \"dklen\": 32,\n",
            "            \"n\": 262144,\n",
            "            \"r\": 1,\n",
            "            \"p\": 8,\n",
            "            \"salt\": \"edefa3a1f4bd632c454536dabb0a2bdf\"\n",
            "        },\n",
            "        \"mac\": \"4cdba2a01199d7174207432a513e5ceeacdf734bad07501ccece9448dd73c726\"\n",
            "    },\n",
            "    \"id\": \"69edff0b-454e-4abb-8f3f-22d299cd29e3\",\n",
            "    \"version\": 3\n",
            "}\n",
            "\n",
            "Share C (Kept by wallet software supplier):  AwChrqNQBnwpLj6b3j5Oo7HK/18uaUsKvkCmGJLKfWHy4g==\n",
            "\t- Encrypted with the KEK by RSA\n",
            "\t- The KEK= 3030923849674283 will be stored in the Wallet Supplier Server\n",
            "\t- The encrypted_share_c= {'address': '251d90d2eb5d89e46d722858d1a20a4dda073a93', 'crypto': {'cipher': 'aes-128-ctr', 'cipherparams': {'iv': 'e22f60bb0530e49d8f4faddb14f5e807'}, 'ciphertext': '9c03680e9f5cd6cb26430b5a703d045b71424cc99cfca7a106fa3fc69d4ac514', 'kdf': 'scrypt', 'kdfparams': {'dklen': 32, 'n': 262144, 'r': 1, 'p': 8, 'salt': '2cc7fecdebff1f0450ed2d78ec8dfec5'}, 'mac': 'da13e1263f2f666c2ad2cd8701e43a6d90661959318b6d7172401420db9c4fc6'}, 'id': 'acf74749-80d5-4451-a6f3-9763287bffaf', 'version': 3} will be stored in the User's iCloud/GoogleDrive\n"
          ]
        }
      ],
      "source": [
        "# Share the secret(private key)\n",
        "share_count = 3\n",
        "threshold = 2\n",
        "shamir = SecretShare(threshold, share_count, secret=secret)\n",
        "shares = shamir.split()\n",
        "shareA = shares[0]\n",
        "shareB = shares[1]\n",
        "shareC = shares[2]\n",
        "\n",
        "print(\"\\nShare A (Stored by writing on the Paper): \", shareA)\n",
        "\n",
        "print(\"\\nShare B (Stored in the Computer): \", shareB)\n",
        "print('\\t- Please enter your password, which is used to encrypt your share B:')\n",
        "password = input()\n",
        "encrypted_share_b = Account.encrypt(shareB.value, password)\n",
        "pointB = shareB.point\n",
        "print(\"\\t- Encrypted with the Password by AES:\")\n",
        "printDict(encrypted_share_b)\n",
        "\n",
        "print(\"\\nShare C (Kept by wallet software supplier): \", shareC)\n",
        "print(\"\\t- Encrypted with the KEK by AES\")\n",
        "kek = random.randint(0,17898947891374192)\n",
        "encrypted_share_c = Account.encrypt(shareC.value, kek)\n",
        "pointC = shareC.point\n",
        "print(\"\\t- The KEK=\", kek, \"will be stored in the Wallet Supplier Server\")\n",
        "print(\"\\t- The encrypted_share_c=\", encrypted_share_c, \"will be stored in the User's iCloud/GoogleDrive\")"
      ]
    },
    {
      "cell_type": "markdown",
      "metadata": {
        "id": "_CvRf9c7v2Pc"
      },
      "source": [
        "## Scenario 1 - User's Normal"
      ]
    },
    {
      "cell_type": "code",
      "execution_count": 7,
      "metadata": {
        "colab": {
          "base_uri": "https://localhost:8080/"
        },
        "id": "lRHlBzLRvfTp",
        "outputId": "361c61db-f119-40a1-aed2-46235b943be9"
      },
      "outputs": [
        {
          "name": "stdout",
          "output_type": "stream",
          "text": [
            "\n",
            "User sign the transaction with Share A & Share B\n",
            "\t- Please enter your password to decrypt the Share B: \n",
            "1234\n",
            "Transaction Hash:  0x03d7b195bb1b3d1accd4de6ca6d12887d1e360af366e1e08b01918f3831abfd2\n",
            "Signature: \n",
            "\t- v: 1\n",
            "\t- r: 115534056649080601028857423666309574914260440785429281453131866961546152916390\n",
            "\t- s: 22651388583251149463669817048932771596499926122556774528040687529184289619208\n"
          ]
        }
      ],
      "source": [
        "print(\"\\nUser sign the transaction with Share A & Share B\")\n",
        "\n",
        "# Decrypt Share B\n",
        "print(\"\\t- Please enter your password to decrypt the Share B: \")\n",
        "password = input()\n",
        "hex_decrypted_share_b = int((Account.decrypt(encrypted_share_b, password).hex()), base=16)\n",
        "decrypted_share_b = Share(point=pointB, value=hex_decrypted_share_b)\n",
        "\n",
        "# Use decrypted Share A & decrypted Share B to sign the transaction\n",
        "shamirAB = SecretShare(threshold, share_count, shares=[shareA, decrypted_share_b])\n",
        "secretAB = shamirAB.combine()\n",
        "signedAB = Account.sign_transaction(dynamic_fee_transaction, int(secretAB))\n",
        "transaction_hash_AB = signedAB.hash.hex()\n",
        "print(\"Transaction Hash: \", transaction_hash_AB)\n",
        "print(\"Signature: \")\n",
        "print(\"\\t- v:\", signedAB.v)\n",
        "print(\"\\t- r:\", signedAB.r)\n",
        "print(\"\\t- s:\", signedAB.s)"
      ]
    },
    {
      "cell_type": "markdown",
      "metadata": {
        "id": "z6WM3aFNv8uz"
      },
      "source": [
        "## Scenario 2 - User's Key Lost"
      ]
    },
    {
      "cell_type": "code",
      "execution_count": 8,
      "metadata": {
        "colab": {
          "base_uri": "https://localhost:8080/"
        },
        "id": "1x6LlDtGvduY",
        "outputId": "96dde6c4-c6c1-45b8-863a-8840e20b1e43"
      },
      "outputs": [
        {
          "name": "stdout",
          "output_type": "stream",
          "text": [
            "\n",
            "If users lost/forget their share A...\n",
            "\t- Please enter your password to decrypt the Share B: \n",
            "1234\n",
            "\t- Get the kek from cloud to decrypt the Share C: \n",
            "User sign the transaction with Share B & Share C\n",
            "Transaction Hash:  0x03d7b195bb1b3d1accd4de6ca6d12887d1e360af366e1e08b01918f3831abfd2\n",
            "Signature: \n",
            "\t- v: 1\n",
            "\t- r: 115534056649080601028857423666309574914260440785429281453131866961546152916390\n",
            "\t- s: 22651388583251149463669817048932771596499926122556774528040687529184289619208\n"
          ]
        }
      ],
      "source": [
        "print(\"\\nIf users lost/forget their share A...\")\n",
        "\n",
        "# Decrypt Share B\n",
        "print(\"\\t- Please enter your password to decrypt the Share B: \")\n",
        "password = input()\n",
        "hex_decrypted_share_b = int((Account.decrypt(encrypted_share_b, password).hex()), base=16)\n",
        "decrypted_share_b = Share(point=pointB, value=hex_decrypted_share_b)\n",
        "\n",
        "# Decrypt Share C\n",
        "print(\"\\t- Get the kek from cloud to decrypt the Share C: \")\n",
        "hex_decrypted_share_c = int((Account.decrypt(encrypted_share_c, kek).hex()), base=16)\n",
        "decrypted_share_c = Share(point=pointC, value=hex_decrypted_share_c)\n",
        "\n",
        "# Use decrypted Share B & decrypted Share C to sign the transaction\n",
        "print(\"User sign the transaction with Share B & Share C\")\n",
        "shamirBC = SecretShare(threshold, share_count, shares=[decrypted_share_b, decrypted_share_c])\n",
        "secretBC = shamirBC.combine()\n",
        "# print(\"Recover Private Key: \", int(secretBC))\n",
        "signedBC = Account.sign_transaction(dynamic_fee_transaction, int(secretBC))\n",
        "transaction_hash_BC = signedBC.hash.hex()\n",
        "print(\"Transaction Hash: \", transaction_hash_BC)\n",
        "print(\"Signature: \")\n",
        "print(\"\\t- v:\", signedBC.v)\n",
        "print(\"\\t- r:\", signedBC.r)\n",
        "print(\"\\t- s:\", signedBC.s)"
      ]
    }
  ],
  "metadata": {
    "colab": {
      "provenance": []
    },
    "kernelspec": {
      "display_name": "Python 3",
      "name": "python3"
    },
    "language_info": {
      "name": "python"
    }
  },
  "nbformat": 4,
  "nbformat_minor": 0
}
